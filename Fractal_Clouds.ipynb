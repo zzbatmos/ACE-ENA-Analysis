{
  "nbformat": 4,
  "nbformat_minor": 0,
  "metadata": {
    "colab": {
      "name": "Fractal_Clouds.ipynb",
      "provenance": [],
      "collapsed_sections": [],
      "authorship_tag": "ABX9TyNg8HjVygxoc+3Sh0fIMY+b",
      "include_colab_link": true
    },
    "kernelspec": {
      "name": "python3",
      "display_name": "Python 3"
    },
    "language_info": {
      "name": "python"
    }
  },
  "cells": [
    {
      "cell_type": "markdown",
      "metadata": {
        "id": "view-in-github",
        "colab_type": "text"
      },
      "source": [
        "<a href=\"https://colab.research.google.com/github/zzbatmos/ACE-ENA-Analysis/blob/master/Fractal_Clouds.ipynb\" target=\"_parent\"><img src=\"https://colab.research.google.com/assets/colab-badge.svg\" alt=\"Open In Colab\"/></a>"
      ]
    },
    {
      "cell_type": "code",
      "metadata": {
        "id": "ST9ZeWRTuoXs"
      },
      "source": [
        "import numpy as np"
      ],
      "execution_count": 6,
      "outputs": []
    },
    {
      "cell_type": "code",
      "metadata": {
        "colab": {
          "base_uri": "https://localhost:8080/"
        },
        "id": "bsaaOhL2zAlf",
        "outputId": "022cd9ff-7726-4947-9754-871aa21fa1a8"
      },
      "source": [
        "pip install metpy "
      ],
      "execution_count": 7,
      "outputs": [
        {
          "output_type": "stream",
          "text": [
            "Requirement already satisfied: metpy in /usr/local/lib/python3.7/dist-packages (1.0.1)\n",
            "Requirement already satisfied: pint>=0.10.1 in /usr/local/lib/python3.7/dist-packages (from metpy) (0.17)\n",
            "Requirement already satisfied: importlib-metadata>=1.0.0 in /usr/local/lib/python3.7/dist-packages (from metpy) (4.6.1)\n",
            "Requirement already satisfied: traitlets>=4.3.0 in /usr/local/lib/python3.7/dist-packages (from metpy) (5.0.5)\n",
            "Requirement already satisfied: pooch>=0.1 in /usr/local/lib/python3.7/dist-packages (from metpy) (1.4.0)\n",
            "Requirement already satisfied: pandas>=0.22.0 in /usr/local/lib/python3.7/dist-packages (from metpy) (1.1.5)\n",
            "Requirement already satisfied: importlib-resources>=1.3.0 in /usr/local/lib/python3.7/dist-packages (from metpy) (5.2.0)\n",
            "Requirement already satisfied: numpy>=1.16.0 in /usr/local/lib/python3.7/dist-packages (from metpy) (1.19.5)\n",
            "Requirement already satisfied: matplotlib>=2.1.0 in /usr/local/lib/python3.7/dist-packages (from metpy) (3.2.2)\n",
            "Requirement already satisfied: xarray>=0.14.1 in /usr/local/lib/python3.7/dist-packages (from metpy) (0.18.2)\n",
            "Requirement already satisfied: pyproj>=2.3.0 in /usr/local/lib/python3.7/dist-packages (from metpy) (3.1.0)\n",
            "Requirement already satisfied: scipy>=1.0 in /usr/local/lib/python3.7/dist-packages (from metpy) (1.4.1)\n",
            "Requirement already satisfied: typing-extensions>=3.6.4 in /usr/local/lib/python3.7/dist-packages (from importlib-metadata>=1.0.0->metpy) (3.7.4.3)\n",
            "Requirement already satisfied: zipp>=0.5 in /usr/local/lib/python3.7/dist-packages (from importlib-metadata>=1.0.0->metpy) (3.5.0)\n",
            "Requirement already satisfied: python-dateutil>=2.1 in /usr/local/lib/python3.7/dist-packages (from matplotlib>=2.1.0->metpy) (2.8.1)\n",
            "Requirement already satisfied: kiwisolver>=1.0.1 in /usr/local/lib/python3.7/dist-packages (from matplotlib>=2.1.0->metpy) (1.3.1)\n",
            "Requirement already satisfied: pyparsing!=2.0.4,!=2.1.2,!=2.1.6,>=2.0.1 in /usr/local/lib/python3.7/dist-packages (from matplotlib>=2.1.0->metpy) (2.4.7)\n",
            "Requirement already satisfied: cycler>=0.10 in /usr/local/lib/python3.7/dist-packages (from matplotlib>=2.1.0->metpy) (0.10.0)\n",
            "Requirement already satisfied: six in /usr/local/lib/python3.7/dist-packages (from cycler>=0.10->matplotlib>=2.1.0->metpy) (1.15.0)\n",
            "Requirement already satisfied: pytz>=2017.2 in /usr/local/lib/python3.7/dist-packages (from pandas>=0.22.0->metpy) (2018.9)\n",
            "Requirement already satisfied: packaging in /usr/local/lib/python3.7/dist-packages (from pint>=0.10.1->metpy) (21.0)\n",
            "Requirement already satisfied: appdirs in /usr/local/lib/python3.7/dist-packages (from pooch>=0.1->metpy) (1.4.4)\n",
            "Requirement already satisfied: requests in /usr/local/lib/python3.7/dist-packages (from pooch>=0.1->metpy) (2.23.0)\n",
            "Requirement already satisfied: certifi in /usr/local/lib/python3.7/dist-packages (from pyproj>=2.3.0->metpy) (2021.5.30)\n",
            "Requirement already satisfied: ipython-genutils in /usr/local/lib/python3.7/dist-packages (from traitlets>=4.3.0->metpy) (0.2.0)\n",
            "Requirement already satisfied: setuptools>=40.4 in /usr/local/lib/python3.7/dist-packages (from xarray>=0.14.1->metpy) (57.2.0)\n",
            "Requirement already satisfied: chardet<4,>=3.0.2 in /usr/local/lib/python3.7/dist-packages (from requests->pooch>=0.1->metpy) (3.0.4)\n",
            "Requirement already satisfied: urllib3!=1.25.0,!=1.25.1,<1.26,>=1.21.1 in /usr/local/lib/python3.7/dist-packages (from requests->pooch>=0.1->metpy) (1.24.3)\n",
            "Requirement already satisfied: idna<3,>=2.5 in /usr/local/lib/python3.7/dist-packages (from requests->pooch>=0.1->metpy) (2.10)\n"
          ],
          "name": "stdout"
        }
      ]
    },
    {
      "cell_type": "code",
      "metadata": {
        "id": "Q_IPQWh5zdyR"
      },
      "source": [
        "import metpy as mpy"
      ],
      "execution_count": 18,
      "outputs": []
    },
    {
      "cell_type": "code",
      "metadata": {
        "id": "BehkfnBNyzld"
      },
      "source": [
        "def cloudheight_diagnose(LWP,k):\n",
        "  h=np.sqrt(2*LWP/k)\n",
        "  return(h)\n"
      ],
      "execution_count": 19,
      "outputs": []
    },
    {
      "cell_type": "code",
      "metadata": {
        "id": "mHcGiIIU9rY1"
      },
      "source": [
        "def cer_diagnose(LWP,k,Nd,fad=1.0):\n",
        "  rho_w = 1000.0*mpy.units.units('kg/m^3')\n",
        "  h = cloudheight_diagnose(LWP,k)\n",
        "  Neff= Nd*0.8\n",
        "  Keff = k*fad\n",
        "  B=np.power(3/(4*np.pi*rho_w),1.0/3.0)\n",
        "  C = Keff*h/Neff\n",
        "  cer = B*np.power(C,1.0/3.0)\n",
        "  return(cer)\n",
        "\n"
      ],
      "execution_count": 21,
      "outputs": []
    },
    {
      "cell_type": "code",
      "metadata": {
        "id": "LsOUcUyvzhWE"
      },
      "source": [
        "LWP = 90*mpy.units.units('g/m^2')\n",
        "k   = 1.5*mpy.units.units('g/m^3/km')\n",
        "Nd  = 200*mpy.units.units('cm^-3')"
      ],
      "execution_count": 22,
      "outputs": []
    },
    {
      "cell_type": "code",
      "metadata": {
        "id": "vVswZZExzm_E"
      },
      "source": [
        "h=cloudheight_diagnose(LWP,k)"
      ],
      "execution_count": 23,
      "outputs": []
    },
    {
      "cell_type": "code",
      "metadata": {
        "colab": {
          "base_uri": "https://localhost:8080/",
          "height": 34
        },
        "id": "pR7f8H3JzvHQ",
        "outputId": "a4583fdc-945b-42e9-ddb6-b88dc12606b8"
      },
      "source": [
        "h.to('meter')"
      ],
      "execution_count": 24,
      "outputs": [
        {
          "output_type": "execute_result",
          "data": {
            "text/latex": "$346.41016151377545\\ \\mathrm{meter}$",
            "text/html": [
              "346.41016151377545 meter"
            ],
            "text/plain": [
              "346.41016151377545 meter"
            ]
          },
          "metadata": {
            "tags": []
          },
          "execution_count": 24
        }
      ]
    },
    {
      "cell_type": "code",
      "metadata": {
        "id": "OYTAGWoyzvyg"
      },
      "source": [
        "re=cer_diagnose(LWP,k,Nd)"
      ],
      "execution_count": 25,
      "outputs": []
    },
    {
      "cell_type": "code",
      "metadata": {
        "colab": {
          "base_uri": "https://localhost:8080/",
          "height": 34
        },
        "id": "rldI9feS_ByM",
        "outputId": "7857d964-0e9f-4e7e-b7ff-f6ca8af26523"
      },
      "source": [
        "re.to('micrometer')"
      ],
      "execution_count": 28,
      "outputs": [
        {
          "output_type": "execute_result",
          "data": {
            "text/latex": "$9.186662538808397\\ \\mathrm{micrometer}$",
            "text/html": [
              "9.186662538808397 micrometer"
            ],
            "text/plain": [
              "9.186662538808397 micrometer"
            ]
          },
          "metadata": {
            "tags": []
          },
          "execution_count": 28
        }
      ]
    },
    {
      "cell_type": "code",
      "metadata": {
        "id": "6mZEmRAz_D7B"
      },
      "source": [
        ""
      ],
      "execution_count": null,
      "outputs": []
    }
  ]
}